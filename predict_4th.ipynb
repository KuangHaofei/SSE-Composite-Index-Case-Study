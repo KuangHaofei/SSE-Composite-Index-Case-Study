{
 "cells": [
  {
   "cell_type": "markdown",
   "metadata": {},
   "source": [
    "# CS 282.01: Introduction to Machine Learning\n",
    "## Spring 2018 Final Project Part 2: SSE Composite Index Case Study\n",
    "## Author: Haofei Kuang, Yijun Yuan\n",
    "## Task 1 Predict 4th day"
   ]
  },
  {
   "cell_type": "code",
   "execution_count": 1,
   "metadata": {},
   "outputs": [],
   "source": [
    "# import modules\n",
    "import numpy as np\n",
    "import pandas as pd\n",
    "import matplotlib.pyplot as plt\n",
    "import time\n",
    "import sys\n",
    "\n",
    "from sklearn.preprocessing import scale\n",
    "from sklearn.model_selection import TimeSeriesSplit\n",
    "from sklearn.metrics import mean_squared_error, r2_score"
   ]
  },
  {
   "cell_type": "markdown",
   "metadata": {},
   "source": [
    "### Section 1: Data Pre-Proccess\n",
    "In this section, we have several taskes for proccessing data, including:\n",
    "- reading orignal data\n",
    "- splite orignal data to features and labels\n",
    "- data standardization \n",
    "- splite orignal data to training data and test data\n",
    "- correlation analysis and feature selection(optional)"
   ]
  },
  {
   "cell_type": "markdown",
   "metadata": {},
   "source": [
    "#### Reading Orignal Data "
   ]
  },
  {
   "cell_type": "code",
   "execution_count": 2,
   "metadata": {},
   "outputs": [],
   "source": [
    "orignal_data = pd.read_csv('dataset/01.csv', encoding='gbk', parse_dates=[0], index_col=0)\n",
    "orignal_data.sort_index(0, ascending=True, inplace=True)\n",
    "# orignal_data"
   ]
  },
  {
   "cell_type": "markdown",
   "metadata": {},
   "source": [
    "#### Splite data to features and labels"
   ]
  },
  {
   "cell_type": "code",
   "execution_count": 3,
   "metadata": {},
   "outputs": [
    {
     "name": "stdout",
     "output_type": "stream",
     "text": [
      "There are total 6713 samples\n",
      "There are 11 samples are removed\n"
     ]
    }
   ],
   "source": [
    "data = orignal_data.copy()\n",
    "\n",
    "# remove unknown data\n",
    "samples = data.index.values.size\n",
    "print('There are total %d samples' % samples)\n",
    "for i in range(len(data.columns)):\n",
    "    col_name = data.columns[i]\n",
    "    unknow_data = data[data[col_name].isin(['None'])].index.values\n",
    "    for j in range(unknow_data.size):\n",
    "        data.drop(unknow_data[j], inplace=True)\n",
    "\n",
    "print('There are %d samples are removed' % (samples - data.index.values.size))\n",
    "samples = data.index.values.size"
   ]
  },
  {
   "cell_type": "code",
   "execution_count": 4,
   "metadata": {},
   "outputs": [],
   "source": [
    "# splite data into features and labels\n",
    "features_days = 5\n",
    "num_of_items = 9\n",
    "num_of_features = features_days * num_of_items\n",
    "\n",
    "# perdict day under hoistoty 5 days\n",
    "# 0, 1, 2, 3, 4(after 1, 2, 3, 4, 5 day)\n",
    "after_day = 3\n",
    "\n",
    "features = np.zeros((samples - features_days - after_day, num_of_features))\n",
    "labels_max = np.zeros((samples - features_days - after_day))\n",
    "labels_min = np.zeros((samples - features_days - after_day))\n",
    "\n",
    "for i in range(samples - features_days - after_day):\n",
    "    features[i, 0:num_of_features] = np.array(data[i:i + features_days][\n",
    "        [u'收盘价', u'最高价', u'最低价', u'开盘价', u'前收盘', u'涨跌额', u'涨跌幅', u'成交量', u'成交金额']]).reshape((1, num_of_features))\n",
    "    labels_max[i] = data.iloc[i + features_days + after_day][u'最高价']\n",
    "    labels_min[i] = data.iloc[i + features_days + after_day][u'最低价']"
   ]
  },
  {
   "cell_type": "code",
   "execution_count": 5,
   "metadata": {},
   "outputs": [],
   "source": [
    "# data normalization\n",
    "# features = scale(features)\n",
    "# labels_max = scale(labels_max)\n",
    "# labels_min = scale(labels_min)\n",
    "\n",
    "from sklearn.preprocessing import StandardScaler\n",
    "\n",
    "# define\n",
    "scaler_features = StandardScaler()\n",
    "scaler_max_labels = StandardScaler()\n",
    "scaler_min_labels = StandardScaler()\n",
    "\n",
    "# fit\n",
    "scaler_features.fit(features)\n",
    "scaler_max_labels.fit(labels_max.reshape(-1, 1))\n",
    "scaler_min_labels.fit(labels_min.reshape(-1, 1))\n",
    "\n",
    "# transform\n",
    "features = scaler_features.transform(features)\n",
    "labels_max = scaler_max_labels.transform(labels_max.reshape(-1, 1))\n",
    "labels_min = scaler_min_labels.transform(labels_min.reshape(-1, 1))\n",
    "\n",
    "labels_max = labels_max.ravel()\n",
    "labels_min = labels_min.ravel()"
   ]
  },
  {
   "cell_type": "code",
   "execution_count": 6,
   "metadata": {},
   "outputs": [
    {
     "name": "stdout",
     "output_type": "stream",
     "text": [
      "(6694, 45)\n",
      "[ True  True  True False False False False False False  True  True  True\n",
      "  True  True False False False False  True  True  True  True  True False\n",
      " False False False  True  True  True  True  True False False False False\n",
      "  True  True  True  True  True False False False False]\n",
      "[ True  True  True False False False False False False  True  True  True\n",
      "  True  True False False False False  True  True  True  True  True False\n",
      " False False False  True  True  True  True  True False False False False\n",
      "  True  True  True  True  True False False False False]\n"
     ]
    }
   ],
   "source": [
    "# feature selection\n",
    "from sklearn.feature_selection import SelectKBest\n",
    "from sklearn.feature_selection import f_regression\n",
    "\n",
    "selector_max = SelectKBest(f_regression, k=23)\n",
    "selector_min = SelectKBest(f_regression, k=23)\n",
    "\n",
    "selector_max.fit(features, labels_max)\n",
    "selector_min.fit(features, labels_min)\n",
    "\n",
    "features_max = selector_max.transform(features)\n",
    "features_min = selector_min.transform(features)\n",
    "print(features.shape)\n",
    "print(selector_max.get_support())\n",
    "print(selector_min.get_support())"
   ]
  },
  {
   "cell_type": "code",
   "execution_count": 7,
   "metadata": {},
   "outputs": [
    {
     "name": "stdout",
     "output_type": "stream",
     "text": [
      "(608, 23)\n",
      "(608, 23)\n"
     ]
    }
   ],
   "source": [
    "# using cross-validation to spilte features and labels into traing set and test set\n",
    "# because the data is a time series data, so we cannot use general cross-validation methods to spilt data\n",
    "# here use TimeSeries K-fold method to do it\n",
    "tscv = TimeSeriesSplit(n_splits=10)\n",
    "\n",
    "# splite dataset for predicting max values\n",
    "for train_index, test_index in tscv.split(features_max):\n",
    "    X_max_train, X_max_test = features_max[train_index], features_max[test_index]\n",
    "    y_max_train, y_max_test = labels_max[train_index], labels_max[test_index]\n",
    "    \n",
    "# splite dataset for predicting min values\n",
    "for train_index, test_index in tscv.split(features_min):\n",
    "    X_min_train, X_min_test = features_min[train_index], features_min[test_index]\n",
    "    y_min_train, y_min_test = labels_min[train_index], labels_min[test_index]\n",
    "\n",
    "print(X_max_test.shape)\n",
    "print(X_min_test.shape)"
   ]
  },
  {
   "cell_type": "code",
   "execution_count": 8,
   "metadata": {},
   "outputs": [
    {
     "name": "stderr",
     "output_type": "stream",
     "text": [
      "/home/kuang/anaconda3/envs/dl/lib/python3.6/site-packages/sklearn/utils/validation.py:475: DataConversionWarning: Data with input dtype object was converted to float64 by StandardScaler.\n",
      "  warnings.warn(msg, DataConversionWarning)\n"
     ]
    }
   ],
   "source": [
    "# extrac last 5 days data for predict new days' values\n",
    "features_predict = np.array(data[-features_days:][\n",
    "    [u'收盘价', u'最高价', u'最低价', u'开盘价', u'前收盘', u'涨跌额', u'涨跌幅', u'成交量', u'成交金额']]).reshape(\n",
    "    (1, num_of_features))\n",
    "\n",
    "features_predict = scaler_features.transform(features_predict)\n",
    "x_max = selector_max.transform(features_predict)\n",
    "x_min = selector_min.transform(features_predict)"
   ]
  },
  {
   "cell_type": "markdown",
   "metadata": {},
   "source": [
    "### Section 2 Traning Model\n",
    "According to our experiments, we found the ExtraTree Regression exihibit better performance of the problem\n",
    "- ExtraTree Regression"
   ]
  },
  {
   "cell_type": "code",
   "execution_count": 9,
   "metadata": {},
   "outputs": [],
   "source": [
    "# define a funtion to display the accuracy of model\n",
    "def display_result(model, X_test, y_test):\n",
    "    y_pred = model.predict(X_test)\n",
    "    \n",
    "    # The coefficients\n",
    "#     print('Coefficients: \\n', model.coef_)\n",
    "    # The mean squared error\n",
    "    print(\"Mean squared error: %f\"\n",
    "          % mean_squared_error(y_test, y_pred))\n",
    "    # Explained variance score: 1 is perfect prediction\n",
    "    print('Variance score: %f' % r2_score(y_test, y_pred))"
   ]
  },
  {
   "cell_type": "markdown",
   "metadata": {},
   "source": [
    "#### Training with ExtraTreesRegressor"
   ]
  },
  {
   "cell_type": "code",
   "execution_count": 10,
   "metadata": {},
   "outputs": [
    {
     "name": "stdout",
     "output_type": "stream",
     "text": [
      "Training....\n",
      "Time used: 7.406156999999999\n"
     ]
    }
   ],
   "source": [
    "# ExtraTreesRegressor\n",
    "from sklearn.ensemble import ExtraTreesRegressor\n",
    "\n",
    "reg_et_max = ExtraTreesRegressor(n_estimators=300, min_samples_split=10)\n",
    "reg_et_min = ExtraTreesRegressor(n_estimators=300, min_samples_split=10)\n",
    "\n",
    "start = time.clock()\n",
    "\n",
    "print('Training....')\n",
    "\n",
    "reg_et_max.fit(X_max_train, y_max_train)\n",
    "reg_et_min.fit(X_min_train, y_min_train)\n",
    "\n",
    "elapsed = (time.clock() - start)\n",
    "print(\"Time used:\",elapsed)"
   ]
  },
  {
   "cell_type": "code",
   "execution_count": 11,
   "metadata": {},
   "outputs": [
    {
     "name": "stdout",
     "output_type": "stream",
     "text": [
      "The result of ExtraTree Regression about predicting maximal price: \n",
      "Mean squared error: 0.004146\n",
      "Variance score: 0.852951\n",
      "----------------------------------------------------------------\n",
      "The result of ExtraTree Regression about predicting minimal price: \n",
      "Mean squared error: 0.005587\n",
      "Variance score: 0.820521\n",
      "----------------------------------------------------------------\n",
      "2018.6.6 最高价: 3163.52 RMB\n",
      "2018.6.6 最低价: 3114.01 RMB\n"
     ]
    }
   ],
   "source": [
    "# display result of ExtraTree Regression\n",
    "print('The result of ExtraTree Regression about predicting maximal price: ')\n",
    "display_result(reg_et_max, X_max_test, y_max_test)\n",
    "\n",
    "print('----------------------------------------------------------------')\n",
    "\n",
    "print('The result of ExtraTree Regression about predicting minimal price: ')\n",
    "display_result(reg_et_min, X_min_test, y_min_test)\n",
    "\n",
    "print('----------------------------------------------------------------')\n",
    "\n",
    "# predict 2018.6.1 \n",
    "y_max = scaler_max_labels.inverse_transform(reg_et_max.predict(x_max))\n",
    "y_min = scaler_min_labels.inverse_transform(reg_et_min.predict(x_min))\n",
    "\n",
    "print('2018.6.6 最高价: %0.2f RMB' % y_max)\n",
    "print('2018.6.6 最低价: %0.2f RMB' % y_min)"
   ]
  },
  {
   "cell_type": "code",
   "execution_count": 13,
   "metadata": {},
   "outputs": [
    {
     "name": "stdout",
     "output_type": "stream",
     "text": [
      "Traininig......\n",
      "Time used: 0.011752999999998792\n"
     ]
    }
   ],
   "source": [
    "# Ridge Regression\n",
    "from sklearn.linear_model import Ridge\n",
    "\n",
    "reg_ridge_max = Ridge(alpha=0.1)\n",
    "reg_ridge_min = Ridge(alpha=0.1)\n",
    "\n",
    "start = time.clock()\n",
    "print('Traininig......')\n",
    "\n",
    "reg_ridge_max.fit(X_max_train, y_max_train)\n",
    "reg_ridge_min.fit(X_min_train, y_min_train)\n",
    "\n",
    "elapsed = (time.clock() - start)\n",
    "print(\"Time used:\",elapsed)"
   ]
  },
  {
   "cell_type": "code",
   "execution_count": 14,
   "metadata": {},
   "outputs": [
    {
     "name": "stdout",
     "output_type": "stream",
     "text": [
      "The result of Ridge Regression about predicting maximal price: \n",
      "Mean squared error: 0.003248\n",
      "Variance score: 0.884803\n",
      "----------------------------------------------------------------\n",
      "The result of Ridge Regression about predicting minimal price: \n",
      "Mean squared error: 0.004376\n",
      "Variance score: 0.859421\n",
      "----------------------------------------------------------------\n",
      "2018.6.7 最高价: 3092.95 RMB\n",
      "2018.6.7 最低价: 3043.01 RMB\n"
     ]
    }
   ],
   "source": [
    "# display result of Ridge Regression\n",
    "print('The result of Ridge Regression about predicting maximal price: ')\n",
    "display_result(reg_ridge_max, X_max_test, y_max_test)\n",
    "\n",
    "print('----------------------------------------------------------------')\n",
    "\n",
    "print('The result of Ridge Regression about predicting minimal price: ')\n",
    "display_result(reg_ridge_min, X_min_test, y_min_test)\n",
    "\n",
    "print('----------------------------------------------------------------')\n",
    "\n",
    "# predict 2018.6.7\n",
    "y_max = scaler_max_labels.inverse_transform(reg_ridge_max.predict(x_max))\n",
    "y_min = scaler_min_labels.inverse_transform(reg_ridge_min.predict(x_min))\n",
    "\n",
    "print('2018.6.7 最高价: %0.2f RMB' % y_max)\n",
    "print('2018.6.7 最低价: %0.2f RMB' % y_min)"
   ]
  }
 ],
 "metadata": {
  "kernelspec": {
   "display_name": "Python 3",
   "language": "python",
   "name": "python3"
  },
  "language_info": {
   "codemirror_mode": {
    "name": "ipython",
    "version": 3
   },
   "file_extension": ".py",
   "mimetype": "text/x-python",
   "name": "python",
   "nbconvert_exporter": "python",
   "pygments_lexer": "ipython3",
   "version": "3.6.4"
  }
 },
 "nbformat": 4,
 "nbformat_minor": 2
}
